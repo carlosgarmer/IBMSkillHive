{
 "cells": [
  {
   "attachments": {},
   "cell_type": "markdown",
   "metadata": {},
   "source": [
    "<h1>File data cleaner</h1>\n",
    "<p>The following code is for cleaning the data contained in the csv files for filling the database</p>"
   ]
  },
  {
   "cell_type": "code",
   "execution_count": 1,
   "metadata": {},
   "outputs": [],
   "source": [
    "import random as r\n",
    "import csv\n",
    "import os\n",
    "import pandas as pd"
   ]
  },
  {
   "cell_type": "code",
   "execution_count": 7,
   "metadata": {},
   "outputs": [],
   "source": [
    "types = pd.read_csv('types.csv')\n",
    "teams = pd.read_csv('teams.csv')\n",
    "skills = pd.read_csv('skills.csv')\n",
    "employees = pd.read_csv('employees.csv')\n",
    "certifications = pd.read_csv('certifications.csv')\n",
    "\n",
    "types = types.drop_duplicates(keep='first')\n",
    "teams = teams.drop_duplicates(keep='first')\n",
    "skills = skills.drop_duplicates(keep='first')\n",
    "employees = employees.drop_duplicates(keep='first')\n",
    "certifications = certifications.drop_duplicates(keep='first')\n",
    "\n",
    "types = types.set_index('typeID')\n",
    "teams = teams.set_index('teamID')\n",
    "skills = skills.set_index('skillsID')\n",
    "employees = employees.set_index('employeesID')\n",
    "certifications = certifications.set_index('certificationID')\n",
    "\n",
    "\n",
    "types.to_csv('types_new.csv', encoding='utf-8')\n",
    "teams.to_csv('teams_new.csv', encoding='utf-8')\n",
    "skills.to_csv('skills_new.csv', encoding='utf-8')\n",
    "employees.to_csv('employees_new.csv', encoding='utf-8')\n",
    "certifications.to_csv('certifications_new.csv', encoding='utf-8')"
   ]
  }
 ],
 "metadata": {
  "kernelspec": {
   "display_name": "base",
   "language": "python",
   "name": "python3"
  },
  "language_info": {
   "codemirror_mode": {
    "name": "ipython",
    "version": 3
   },
   "file_extension": ".py",
   "mimetype": "text/x-python",
   "name": "python",
   "nbconvert_exporter": "python",
   "pygments_lexer": "ipython3",
   "version": "3.8.8"
  },
  "orig_nbformat": 4
 },
 "nbformat": 4,
 "nbformat_minor": 2
}
