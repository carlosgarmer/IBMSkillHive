{
 "cells": [
  {
   "attachments": {},
   "cell_type": "markdown",
   "metadata": {},
   "source": [
    "<h1>File data cleaner and uploader</h1>\n",
    "<p>The following code is for cleaning and uploading the data contained in the csv files for filling the database</p>"
   ]
  },
  {
   "cell_type": "code",
   "execution_count": 35,
   "metadata": {},
   "outputs": [
    {
     "name": "stdout",
     "output_type": "stream",
     "text": [
      "Collecting mysql-connector-python\n",
      "  Downloading mysql_connector_python-8.0.33-py2.py3-none-any.whl (390 kB)\n",
      "\u001b[K     |████████████████████████████████| 390 kB 1.2 MB/s eta 0:00:01\n",
      "\u001b[?25hCollecting protobuf<=3.20.3,>=3.11.0\n",
      "  Downloading protobuf-3.20.3-cp38-cp38-macosx_10_9_x86_64.whl (982 kB)\n",
      "\u001b[K     |████████████████████████████████| 982 kB 32.8 MB/s eta 0:00:01\n",
      "\u001b[?25hInstalling collected packages: protobuf, mysql-connector-python\n",
      "Successfully installed mysql-connector-python-8.0.33 protobuf-3.20.3\n"
     ]
    }
   ],
   "source": [
    "!pip install mysql-connector-python"
   ]
  },
  {
   "cell_type": "code",
   "execution_count": 36,
   "metadata": {},
   "outputs": [
    {
     "name": "stdout",
     "output_type": "stream",
     "text": [
      "Collecting PyMySQL\n",
      "  Downloading PyMySQL-1.0.3-py3-none-any.whl (43 kB)\n",
      "\u001b[K     |████████████████████████████████| 43 kB 792 kB/s eta 0:00:01\n",
      "\u001b[?25hInstalling collected packages: PyMySQL\n",
      "Successfully installed PyMySQL-1.0.3\n"
     ]
    }
   ],
   "source": [
    "!pip install PyMySQL"
   ]
  },
  {
   "cell_type": "code",
   "execution_count": 37,
   "metadata": {},
   "outputs": [],
   "source": [
    "import pymysql\n",
    "import requests\n",
    "import json\n",
    "import random as r\n",
    "import pandas as pd\n",
    "from sqlalchemy import create_engine\n",
    "from sqlalchemy.types import VARCHAR\n",
    "import csv"
   ]
  },
  {
   "cell_type": "code",
   "execution_count": 41,
   "metadata": {},
   "outputs": [],
   "source": [
    "# create sqlalchemy engine\n",
    "engine = create_engine(\"mysql+pymysql://{user}:{pw}@{host}/{db}\"\n",
    "                       .format(user=\"bee\",\n",
    "                               pw= \"carlos123!\",\n",
    "                               host= \"skillhive.mysql.database.azure.com\",\n",
    "                               db=\"ibmskillhive\"))"
   ]
  },
  {
   "cell_type": "code",
   "execution_count": 42,
   "metadata": {},
   "outputs": [],
   "source": [
    "# conection\n",
    "connection = engine.connect()"
   ]
  },
  {
   "cell_type": "code",
   "execution_count": null,
   "metadata": {},
   "outputs": [],
   "source": []
  },
  {
   "cell_type": "code",
   "execution_count": 33,
   "metadata": {},
   "outputs": [
    {
     "name": "stdout",
     "output_type": "stream",
     "text": [
      "                            name       teamID                       email\n",
      "employeesID                                                              \n",
      "073296781IBM         James Smith   FIN1631247         James_Smith@ibm.com\n",
      "079916781IBM          John Smith   LOG3416938          John_Smith@ibm.com\n",
      "070482781IBM        Maria Garcia   FIN1631247        Maria_Garcia@ibm.com\n",
      "063135781IBM       John Williams    AI6817564       John_Williams@ibm.com\n",
      "063381781IBM        David Miller    AI6817564        David_Miller@ibm.com\n",
      "063375781IBM        John Johnson  DATA9132641        John_Johnson@ibm.com\n",
      "064216781IBM        James Thomas  PROD2763962        James_Thomas@ibm.com\n",
      "065296781IBM       Robert Wilson  DATA9132641       Robert_Wilson@ibm.com\n",
      "067334781IBM      David Anderson  PROD2763962      David_Anderson@ibm.com\n",
      "067701781IBM      Michael Taylor   LOG3416938      Michael_Taylor@ibm.com\n",
      "067981781IBM           James Lee   LOG3416938           James_Lee@ibm.com\n",
      "068026781IBM        Robert Moore   FIN1631247        Robert_Moore@ibm.com\n",
      "077352781IBM       Charles Jones  PROD2763962       Charles_Jones@ibm.com\n",
      "069190781IBM     Daniel Martinez  DATA9132641     Daniel_Martinez@ibm.com\n",
      "079941781IBM      Richard Miller    AI6817564      Richard_Miller@ibm.com\n",
      "071886781IBM         John Taylor   FIN1631247         John_Taylor@ibm.com\n",
      "070293781IBM     Thomas Williams  PROD2763962     Thomas_Williams@ibm.com\n",
      "075951781IBM     Michael Jackson  PROD2763962     Michael_Jackson@ibm.com\n",
      "077396781IBM   Patricia Williams   FIN1631247   Patricia_Williams@ibm.com\n",
      "079945781IBM          Mary Moore   FIN1631247          Mary_Moore@ibm.com\n",
      "077336781IBM      Jennifer Davis  DATA9132641      Jennifer_Davis@ibm.com\n",
      "078217781IBM    Richard Anderson   LOG3416938    Richard_Anderson@ibm.com\n",
      "079001781IBM      Barbara Miller  PROD2763962      Barbara_Miller@ibm.com\n",
      "001054781IBM  Elizabeth Martinez   LOG3416938  Elizabeth_Martinez@ibm.com\n",
      "000135781IBM      Patricia Davis    AI6817564      Patricia_Davis@ibm.com\n",
      "079353781IBM       Barbara Davis  PROD2763962       Barbara_Davis@ibm.com\n",
      "109848781IBM      Richard Wilson    AI6817564      Richard_Wilson@ibm.com\n",
      "Y9G8C9638IBM    Robert Rodriguez   LOG3416938    Robert_Rodriguez@ibm.com\n",
      "020921781IBM            Mary Lee    AI6817564            Mary_Lee@ibm.com\n",
      "000714781IBM     Thomas Anderson   FIN1631247     Thomas_Anderson@ibm.com\n",
      "074627781IBM    Richard Thompson  DATA9132641    Richard_Thompson@ibm.com\n",
      "000855781IBM       Thomas Taylor    AI6817564       Thomas_Taylor@ibm.com\n",
      "077391781IBM     Jennifer Martin  DATA9132641     Jennifer_Martin@ibm.com\n",
      "057209781IBM       Daniel Wilson   LOG3416938       Daniel_Wilson@ibm.com\n",
      "079351781IBM     Patricia Martin   LOG3416938     Patricia_Martin@ibm.com\n",
      "000176781IBM     Patricia Wilson   FIN1631247     Patricia_Wilson@ibm.com\n",
      "001215781IBM       Joseph Taylor   LOG3416938       Joseph_Taylor@ibm.com\n",
      "107089781IBM    Patricia Jackson  PROD2763962    Patricia_Jackson@ibm.com\n",
      "068738781IBM    Jennifer Jackson    AI6817564    Jennifer_Jackson@ibm.com\n",
      "106397781IBM     Barbara Jackson   LOG3416938     Barbara_Jackson@ibm.com\n",
      "080844781IBM    Elizabeth Thomas   FIN1631247    Elizabeth_Thomas@ibm.com\n",
      "109102781IBM   William Rodriguez   LOG3416938   William_Rodriguez@ibm.com\n",
      "002033781IBM       Elizabeth Lee   LOG3416938       Elizabeth_Lee@ibm.com\n",
      "106836781IBM   Elizabeth Jackson   FIN1631247   Elizabeth_Jackson@ibm.com\n",
      "056676781IBM      James Martinez   LOG3416938      James_Martinez@ibm.com\n",
      "106125781IBM       Mark Martinez  PROD2763962       Mark_Martinez@ibm.com\n",
      "077813781IBM      Barbara Garcia    AI6817564      Barbara_Garcia@ibm.com\n",
      "07216A781IBM      Charles Garcia   LOG3416938      Charles_Garcia@ibm.com\n",
      "070390781IBM       Maria Jackson  DATA9132641       Maria_Jackson@ibm.com\n"
     ]
    }
   ],
   "source": [
    "types = pd.read_csv('types.csv')\n",
    "teams = pd.read_csv('teams.csv')\n",
    "skills = pd.read_csv('skills.csv')\n",
    "employees = pd.read_csv('employees.csv')\n",
    "certifications = pd.read_csv('certifications.csv')\n",
    "\n",
    "types = types.set_index('typeID')\n",
    "teams = teams.set_index('teamID')\n",
    "skills = skills.set_index('skillsID')\n",
    "employees = employees.set_index('employeesID')\n",
    "certifications = certifications.set_index('certificationID')\n",
    "\n",
    "types = types.drop_duplicates(keep='first')\n",
    "teams = teams.drop_duplicates(keep='first')\n",
    "skills = skills.drop_duplicates(keep='first')\n",
    "employees = employees.dropna()\n",
    "employees = employees.drop_duplicates(subset=None, keep='first', inplace=False)\n",
    "certifications = certifications.drop_duplicates(keep='first')\n",
    "employees = employees[~employees.index.duplicated()]\n",
    "certifications = certifications.dropna()\n",
    "certifications = certifications[~certifications.index.duplicated()]\n",
    "print(employees)\n",
    "\n",
    "types.to_csv('types_new.csv', encoding='utf-8')\n",
    "teams.to_csv('teams_new.csv', encoding='utf-8')\n",
    "skills.to_csv('skills_new.csv', encoding='utf-8')\n",
    "employees.to_csv('employees_new.csv', encoding='utf-8')\n",
    "certifications.to_csv('certifications_new.csv', encoding='utf-8')"
   ]
  },
  {
   "cell_type": "code",
   "execution_count": 34,
   "metadata": {},
   "outputs": [
    {
     "name": "stdout",
     "output_type": "stream",
     "text": [
      "                   employeeID       typeID  \\\n",
      "certificationID                              \n",
      "BDGE6573255      073296781IBM  CSRA1246524   \n",
      "BDGE3319281      073296781IBM  CSRA7775622   \n",
      "BDGE3543652      073296781IBM  CSRA6449413   \n",
      "BDGE9791296      073296781IBM  CSRA2292265   \n",
      "BDGE4999395      073296781IBM  CSRA6716582   \n",
      "...                       ...          ...   \n",
      "BDGE1724261      020921781IBM  CSRA9598416   \n",
      "BDGE7982349      020921781IBM  CSRA3481919   \n",
      "BDGE2483781      020921781IBM  CSRA8271613   \n",
      "BDGE6385757      020921781IBM  CSRA1984914   \n",
      "BDGE3283842      020921781IBM  CSRA1819994   \n",
      "\n",
      "                                             skillsID  \n",
      "certificationID                                        \n",
      "BDGE6573255      66d495e1-d893-4c32-8a4c-480e6bc84413  \n",
      "BDGE3319281      3efb2308-caff-481d-94dd-4e34d1de6230  \n",
      "BDGE3543652      6cc6662b-3d57-4c77-a515-a5a837531996  \n",
      "BDGE9791296      f6f07644-7289-4029-b61f-09284c94c0a9  \n",
      "BDGE4999395      762411bf-5508-409a-bb4e-378dacd6e959  \n",
      "...                                               ...  \n",
      "BDGE1724261      21a7a83d-a7e0-4f9a-b782-5870dfde1830  \n",
      "BDGE7982349      762411bf-5508-409a-bb4e-378dacd6e959  \n",
      "BDGE2483781      cdd88c91-866e-4beb-93f2-6a8f4a530034  \n",
      "BDGE6385757      f2777485-8f70-497b-9fc4-2ed5c74c1c1f  \n",
      "BDGE3283842      28f6c5bd-6c0e-4553-8164-c2cc794a464b  \n",
      "\n",
      "[237 rows x 3 columns]\n"
     ]
    }
   ],
   "source": [
    "print(certifications)"
   ]
  }
 ],
 "metadata": {
  "kernelspec": {
   "display_name": "base",
   "language": "python",
   "name": "python3"
  },
  "language_info": {
   "codemirror_mode": {
    "name": "ipython",
    "version": 3
   },
   "file_extension": ".py",
   "mimetype": "text/x-python",
   "name": "python",
   "nbconvert_exporter": "python",
   "pygments_lexer": "ipython3",
   "version": "3.8.8"
  },
  "orig_nbformat": 4
 },
 "nbformat": 4,
 "nbformat_minor": 2
}
